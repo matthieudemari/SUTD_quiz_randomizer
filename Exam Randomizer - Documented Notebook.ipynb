{
 "cells": [
  {
   "cell_type": "markdown",
   "metadata": {},
   "source": [
    "# Exam Randomizer - Documented notebook\n",
    "\n",
    "## About\n",
    "\n",
    "Authors: Alexander BINDER, Matthieu DE MARI\n",
    "\n",
    "Email: alexander_binder@sutd.edu.sg, matthieu_demari@sutd.edu.sg\n",
    "\n",
    "## Description\n",
    "\n",
    "Text\n",
    "\n",
    "## About additional files\n",
    "\n",
    "Text\n",
    "\n",
    "## Necessary imports\n",
    "\n",
    "Text"
   ]
  },
  {
   "cell_type": "code",
   "execution_count": 1,
   "metadata": {},
   "outputs": [],
   "source": [
    "import numpy as np\n",
    "import os\n",
    "import subprocess\n",
    "import math\n",
    "import smtplib\n",
    "from email.mime.multipart import MIMEMultipart\n",
    "from email.mime.text import MIMEText\n",
    "from email.mime.base import MIMEBase\n",
    "from email import encoders"
   ]
  },
  {
   "cell_type": "markdown",
   "metadata": {},
   "source": [
    "### MikTeX (or any other pdflatex command line compiler)\n",
    "\n",
    "Text\n",
    "\n",
    "### PDF command line (Windows)\n",
    "\n",
    "https://www.pdflabs.com/tools/pdftk-server/"
   ]
  },
  {
   "cell_type": "markdown",
   "metadata": {},
   "source": [
    "## II. Preparing students IDs and passwords\n",
    "\n",
    "### II.1. Retrieving students ID list from CSV file"
   ]
  },
  {
   "cell_type": "code",
   "execution_count": 2,
   "metadata": {},
   "outputs": [],
   "source": [
    "def retrieve_student_list_IDs():\n",
    "    \n",
    "    # CSV file name\n",
    "    studentidentifiers_file = './studentids.csv'\n",
    "    \n",
    "    # Initialize list of students ID as an empty list\n",
    "    studentidentifiers = []\n",
    "    \n",
    "    # Open file as text and read each line\n",
    "    with open(studentidentifiers_file,'r') as f:\n",
    "        for line in f:\n",
    "            # Read line and strip\n",
    "            v = line.rstrip()\n",
    "            \n",
    "            # This is a cheap way to ignore things that are not student IDs\n",
    "            if len(v) >= 2:\n",
    "                # If it is an ID, append to list of IDs\n",
    "                studentidentifiers.append(v)\n",
    "                \n",
    "    '''\n",
    "    FOR DEBUGGING: Ignore.\n",
    "    '''\n",
    "    if len(studentidentifiers) == 0:\n",
    "        print('len(studentidentifiers)==0')\n",
    "        exit()\n",
    "        \n",
    "    return studentidentifiers"
   ]
  },
  {
   "cell_type": "code",
   "execution_count": 3,
   "metadata": {},
   "outputs": [
    {
     "name": "stdout",
     "output_type": "stream",
     "text": [
      "['1002849', '1002945', '1002939', '1002948', '1002027', '1002675', '1002744', '1002811', '1002898', '1002871', '1002758', '1002870', '1002972', '1002949', '1000749', '1003056', '1002899', '1000593', '1002681', '1001781', '1002332', '1001834', '1002673', '1002992', '1002966', '1002656', '1002777', '1002125', '1002959', '1002954', '1002975', '1002923', '1002080', '1002686', '1003045', '1003107', '1003022', '1002974', '1002819', '1003044', '1002901', '1002722', '1002746', '1002887', '1002768', '1002968', '1002845', '1002653', '1003052', '1003101', '1002953', '1002963', '1002885', '1002965', '1002853', '1002029', '1002961', '1002973', '1002779', '1002872', '1002791']\n"
     ]
    }
   ],
   "source": [
    "studentidentifiers = retrieve_student_list_IDs()\n",
    "print(studentidentifiers)"
   ]
  },
  {
   "cell_type": "markdown",
   "metadata": {},
   "source": [
    "### II.2. Generating passwords for students"
   ]
  },
  {
   "cell_type": "code",
   "execution_count": 4,
   "metadata": {},
   "outputs": [],
   "source": [
    "def pseudopwgen():\n",
    "    \n",
    "    # String containing all usable characters for password generation\n",
    "    chars = 'zxcvbnmasdfghjklqwertyuiop1234567890-?!@#$%^&*(='\n",
    "    \n",
    "    # Length of password\n",
    "    pwlength = 12\n",
    "    \n",
    "    # Random generator for password\n",
    "    # inds is a list of pwlength = 12 indexes, with values in [0, len(chars)]\n",
    "    inds = np.random.choice(len(chars), size = pwlength, replace = True, p = None)\n",
    "    \n",
    "    # Initialize password as an empty string\n",
    "    pseudopw = ''\n",
    "    \n",
    "    # Add randomly selected characters from chars to pseudopw\n",
    "    for k in range(pwlength):\n",
    "        pseudopw += chars[inds[k]]\n",
    "        \n",
    "    return pseudopw"
   ]
  },
  {
   "cell_type": "code",
   "execution_count": 5,
   "metadata": {},
   "outputs": [
    {
     "name": "stdout",
     "output_type": "stream",
     "text": [
      "7iuyzq=@zu#6\n"
     ]
    }
   ],
   "source": [
    "generated_password = pseudopwgen()\n",
    "print(generated_password)"
   ]
  },
  {
   "cell_type": "markdown",
   "metadata": {},
   "source": [
    "### II.3. Matching passwords and IDs"
   ]
  },
  {
   "cell_type": "code",
   "execution_count": 6,
   "metadata": {},
   "outputs": [],
   "source": [
    "def generate_ID_password():\n",
    "    \n",
    "    # Retrieve list of students IDs\n",
    "    studentidentifiers = retrieve_student_list_IDs()\n",
    "    number_students = len(studentidentifiers)\n",
    "    \n",
    "    # Generate passwords\n",
    "    studentpws = [pseudopwgen() for _ in range(number_students)]\n",
    "    \n",
    "    # Dictionary of matching values\n",
    "    id_password_dict = {studentidentifiers[i]: studentpws[i] for i in range(number_students)}\n",
    "    \n",
    "    return id_password_dict"
   ]
  },
  {
   "cell_type": "code",
   "execution_count": 7,
   "metadata": {},
   "outputs": [
    {
     "name": "stdout",
     "output_type": "stream",
     "text": [
      "{'1002849': '!wr1l6vpsm2m', '1002945': '1611fh-t1v*j', '1002939': 'c=-0@%^0q5x#', '1002948': 'z=gh$1c*0rh!', '1002027': '0j^&ywf2e*r^', '1002675': 'gu9oadu=219?', '1002744': 'j!n?s3wydsk0', '1002811': 'x^teftd#4ijn', '1002898': 'wzjt?5%maew3', '1002871': 'mow-*!g22d53', '1002758': 'm5mx3m9$fmrt', '1002870': '-u@d3qdbsa(h', '1002972': 'io31sbu4w0lr', '1002949': '6i8k8j9jmw==', '1000749': '@=19ey*fdxki', '1003056': 'ccdqw3h^&l4a', '1002899': '1y*l7pi*^1#x', '1000593': 'yhihm44^-ko4', '1002681': 'x=^wn74s%f02', '1001781': '$%kt225h#yo#', '1002332': '9jxvw^h!r6?0', '1001834': 'hah8qoe5kb00', '1002673': 'y*jk(hw&m?rc', '1002992': '(3k3yy-a3^1l', '1002966': 'shhpfebgme@5', '1002656': 'ddx97kk7wbd#', '1002777': 'kyoy!drifwb^', '1002125': 'zv#a2fif#1&i', '1002959': '8!i*cigp!aqs', '1002954': '0q6*8@awfezk', '1002975': '5^zy*o*drh=r', '1002923': '5=&d1ps*g6ru', '1002080': 'pwyhba6l(9$#', '1002686': 'l0q7p(pm*$hp', '1003045': 'fx(io(t&s@85', '1003107': '70&bxy8z@k72', '1003022': 'mccp?=^#0@$9', '1002974': 'qa4hxj*(dvbk', '1002819': '%p@a7i&x3bu$', '1003044': '@$%n3p9&$&ub', '1002901': '2yhpedec1v6g', '1002722': 'qb=ie29in07=', '1002746': 'i5yl^5r^jfj-', '1002887': 'mr^a*22x3-4s', '1002768': 'vhmpgsnb8(a?', '1002968': 'n9pv!rj6ftd*', '1002845': 'fs*j5(9e#j-^', '1002653': 'oe!82v-&8f$c', '1003052': 'qnbm&twu3cks', '1003101': '@l4v4@v43$7@', '1002953': '-q#@$08rh=r$', '1002963': 'y!@%#3ldzvnv', '1002885': 'br604fx*5n4=', '1002965': 'ia3p#jvle*$a', '1002853': '3gkswz%5ol&g', '1002029': 'tzb61vs!$3f^', '1002961': '4#p-&zbp-ztc', '1002973': '20@x5mwcdxf!', '1002779': 's4w*5#5u1lsr', '1002872': 'q^rizsns7niq', '1002791': 'a8iq?hk@r?i?'}\n"
     ]
    }
   ],
   "source": [
    "id_password_dict = generate_ID_password()\n",
    "print(id_password_dict)"
   ]
  },
  {
   "cell_type": "markdown",
   "metadata": {},
   "source": [
    "### II.4. Save passwords and IDs to file"
   ]
  },
  {
   "cell_type": "code",
   "execution_count": 8,
   "metadata": {},
   "outputs": [],
   "source": [
    "def save_ID_password(id_password_dict):\n",
    "    \n",
    "    with open('studentpasswords.txt', 'w') as f:\n",
    "        for key, value in id_password_dict.items():\n",
    "            f.write(\"{} - {}\\n\".format(key, value))\n",
    "        f.close()"
   ]
  },
  {
   "cell_type": "code",
   "execution_count": 9,
   "metadata": {},
   "outputs": [],
   "source": [
    "save_ID_password(id_password_dict)"
   ]
  },
  {
   "cell_type": "markdown",
   "metadata": {},
   "source": [
    "## III. Randomizing values on tasks\n",
    "\n",
    "### III.1. Randomizing values for a given task"
   ]
  },
  {
   "cell_type": "code",
   "execution_count": 10,
   "metadata": {},
   "outputs": [],
   "source": [
    "class solutionscrubber_t1a():\n",
    "    \n",
    "    def __init__(self, studentid_as_seed):\n",
    "        \n",
    "        # Use the student ID as seed\n",
    "        # Remeber to convert student ID from str to int!\n",
    "        self.studentid_as_string = studentid_as_seed\n",
    "        self.studentid_as_seed = int(self.studentid_as_string)\n",
    "        np.random.seed(self.studentid_as_seed)\n",
    "        \n",
    "        # Scrub keys to look for in LaTeX file\n",
    "        # '#ra01' = img size 1, \n",
    "        # '#ra02' = img size 2,\n",
    "        # '#ra03' = kernel size 1\n",
    "        # '#ra04' = kernel size 2\n",
    "        # '#ra05' = stride\n",
    "        # '#ra06' = padding size\n",
    "        self.scrubkeys = ['#ra01', '#ra02', '#ra03', '#ra04', '#ra05', '#ra06']\n",
    "        \n",
    "        # Dict of all acceptable random values\n",
    "        self.random_values_dict_all = {'#ra01': [32, 64, 128, 256, 512],\n",
    "                                       '#ra02': [32, 64, 128, 256, 512],\n",
    "                                       '#ra03': [3, 5, 7],\n",
    "                                       '#ra04': [3, 5, 7],\n",
    "                                       '#ra05': [1, 2, 3],\n",
    "                                       '#ra06': [1, 2, 3]}\n",
    "        \n",
    "        # Dict of values for given student\n",
    "        # Initialized as None for now\n",
    "        self.random_values_dict_student = {key: None for key in self.scrubkeys}\n",
    "        \n",
    "        # Randomize values\n",
    "        self.randomize_values()\n",
    "        \n",
    "        # Dict of values for given student (solutions)\n",
    "        # '#ra07' = output size 1\n",
    "        # '#ra08' = output size 2\n",
    "        self.dict_student_solutions = {'#ra07': None, '#ra08': None}\n",
    "        \n",
    "        # Compute solutions\n",
    "        self.compute_solution()\n",
    "        \n",
    "        \n",
    "    def randomize_values(self):\n",
    "        \n",
    "        for key in self.random_values_dict_student.keys():\n",
    "            # Get a random val for each key among the possible choices given in self.random_values_dict_all\n",
    "            random_val = np.random.choice(self.random_values_dict_all[key])\n",
    "            \n",
    "            # Assign it to self.random_values_dict_student\n",
    "            self.random_values_dict_student[key] = random_val\n",
    "            \n",
    "\n",
    "    def compute_solution(self):\n",
    "        \n",
    "        # Retrieve parameters: image size\n",
    "        imgsize_h = self.random_values_dict_student['#ra01']\n",
    "        imgsize_w = self.random_values_dict_student['#ra02']\n",
    "        \n",
    "        # Retrieve parameters: kernel size\n",
    "        ksize_h = self.random_values_dict_student['#ra03']\n",
    "        ksize_w = self.random_values_dict_student['#ra04']\n",
    "        \n",
    "        # Retrieve parameters: stride size\n",
    "        stride = self.random_values_dict_student['#ra05']\n",
    "        \n",
    "        # Retrieve parameters: padding size\n",
    "        pad =  self.random_values_dict_student['#ra06']\n",
    "        \n",
    "        # Compute solutions\n",
    "        self.dict_student_solutions['#ra07'] = math.floor((imgsize_h - ksize_h + 2*pad)/float(stride) + 1)\n",
    "        self.dict_student_solutions['#ra08'] = math.floor((imgsize_w - ksize_w + 2*pad)/float(stride) + 1)"
   ]
  },
  {
   "cell_type": "code",
   "execution_count": 11,
   "metadata": {},
   "outputs": [
    {
     "name": "stdout",
     "output_type": "stream",
     "text": [
      "{'#ra01': [32, 64, 128, 256, 512], '#ra02': [32, 64, 128, 256, 512], '#ra03': [3, 5, 7], '#ra04': [3, 5, 7], '#ra05': [1, 2, 3], '#ra06': [1, 2, 3]}\n",
      "\n",
      "{'#ra01': 256, '#ra02': 32, '#ra03': 7, '#ra04': 3, '#ra05': 3, '#ra06': 2}\n",
      "\n",
      "{'#ra07': 85, '#ra08': 12}\n",
      "\n"
     ]
    }
   ],
   "source": [
    "student_id = '0002403'\n",
    "scrubber_for_task1a_given_student = solutionscrubber_t1a(studentid_as_seed = student_id)\n",
    "#print(scrubber_for_task1a_given_student.__dict__, end = '\\n\\n')\n",
    "print(scrubber_for_task1a_given_student.random_values_dict_all, end = '\\n\\n')\n",
    "print(scrubber_for_task1a_given_student.random_values_dict_student, end = '\\n\\n')\n",
    "print(scrubber_for_task1a_given_student.dict_student_solutions, end = '\\n\\n')"
   ]
  },
  {
   "cell_type": "markdown",
   "metadata": {},
   "source": [
    "### III.2. Inputing into LaTeX file"
   ]
  },
  {
   "cell_type": "code",
   "execution_count": 12,
   "metadata": {},
   "outputs": [],
   "source": [
    "def input_randomized_values_into_latex(task_scrubber_object):\n",
    "    \n",
    "    # Make a copy of the original template\n",
    "    student_id = task_scrubber_object.studentid_as_string\n",
    "    \n",
    "    # Retrieve LaTeX code as string from file\n",
    "    path_to_original_file = './latex_file_for_demo.tex'\n",
    "    with open(path_to_original_file, 'r') as f:\n",
    "        latex_code_as_string = f.read()\n",
    "        f.close()\n",
    "        \n",
    "    # Replace randomized values in LaTeX string\n",
    "    for key, val in task_scrubber_object.random_values_dict_student.items():\n",
    "        latex_code_as_string = latex_code_as_string.replace(str(key), str(val))\n",
    "    \n",
    "    # Replace solutions in LaTeX string\n",
    "    for key, val in task_scrubber_object.dict_student_solutions.items():\n",
    "        latex_code_as_string = latex_code_as_string.replace(str(key), str(val))\n",
    "    \n",
    "    # Check for existing directory, otherwise create it\n",
    "    sub_dir = './students_pdfs/'\n",
    "    if not os.path.exists(sub_dir):\n",
    "        os.mkdir(sub_dir)\n",
    "    stud_dir = sub_dir + '{}/'.format(student_id)\n",
    "    if not os.path.exists(stud_dir):\n",
    "        os.mkdir(stud_dir)\n",
    "    \n",
    "    # Rewrite to file (student copy)\n",
    "    path_to_new_file = stud_dir + 'latex_file_for_demo_{}.tex'.format(student_id)\n",
    "    with open(path_to_new_file, 'w') as f:\n",
    "        f.write(latex_code_as_string)\n",
    "        f.close()\n",
    "        \n",
    "    # Make master copy with solutions\n",
    "    latex_code_as_string = latex_code_as_string.replace('noanswers', 'answers')\n",
    "    \n",
    "    # Rewrite to file (solutions copy)\n",
    "    path_to_new_file = stud_dir + 'latex_file_for_demo_{}_solutions.tex'.format(student_id)\n",
    "    with open(path_to_new_file, 'w') as f:\n",
    "        f.write(latex_code_as_string)\n",
    "        f.close()"
   ]
  },
  {
   "cell_type": "code",
   "execution_count": 13,
   "metadata": {},
   "outputs": [],
   "source": [
    "input_randomized_values_into_latex(task_scrubber_object = scrubber_for_task1a_given_student)"
   ]
  },
  {
   "cell_type": "markdown",
   "metadata": {},
   "source": [
    "## III.3. Compile LaTeX file from python"
   ]
  },
  {
   "cell_type": "code",
   "execution_count": 14,
   "metadata": {},
   "outputs": [],
   "source": [
    "def compile_for_student_windows(student_id, remove = False):\n",
    "    \n",
    "    # Compile LaTeX file (student copy)\n",
    "    sub_dir = './students_pdfs/'\n",
    "    stud_dir = sub_dir + '{}/'.format(student_id)\n",
    "    path_to_new_file = stud_dir + 'latex_file_for_demo_{}.tex'.format(student_id)\n",
    "    os.system(\"pdflatex -halt-on-error -output-directory {} {}\".format(stud_dir, path_to_new_file))\n",
    "    \n",
    "    # Compile LaTeX file (solutions copy)\n",
    "    sub_dir = './students_pdfs/'\n",
    "    stud_dir = sub_dir + '{}/'.format(student_id)\n",
    "    path_to_new_file = stud_dir + 'latex_file_for_demo_{}_solutions.tex'.format(student_id)\n",
    "    os.system(\"pdflatex -halt-on-error -output-directory {} {}\".format(stud_dir, path_to_new_file))\n",
    "    \n",
    "    # Remove extra files (just leave the PDF)\n",
    "    if remove:\n",
    "        file = stud_dir + 'latex_file_for_demo_{}.aux'.format(student_id)\n",
    "        if os.path.exists(file):\n",
    "            os.remove(file)\n",
    "        file = stud_dir + 'latex_file_for_demo_{}.log'.format(student_id)\n",
    "        if os.path.exists(file):\n",
    "            os.remove(file)\n",
    "        file = stud_dir + 'latex_file_for_demo_{}.tex'.format(student_id)\n",
    "        if os.path.exists(file):\n",
    "            os.remove(file)\n",
    "        file = stud_dir + 'latex_file_for_demo_{}.out'.format(student_id)\n",
    "        if os.path.exists(file):\n",
    "            os.remove(file)\n",
    "        file = stud_dir + 'latex_file_for_demo_{}_solutions.aux'.format(student_id)\n",
    "        if os.path.exists(file):\n",
    "            os.remove(file)\n",
    "        file = stud_dir + 'latex_file_for_demo_{}_solutions.log'.format(student_id)\n",
    "        if os.path.exists(file):\n",
    "            os.remove(file)\n",
    "        file = stud_dir + 'latex_file_for_demo_{}_solutions.tex'.format(student_id)\n",
    "        if os.path.exists(file):\n",
    "            os.remove(file)\n",
    "        file = stud_dir + 'latex_file_for_demo_{}_solutions.out'.format(student_id)\n",
    "        if os.path.exists(file):\n",
    "            os.remove(file)"
   ]
  },
  {
   "cell_type": "code",
   "execution_count": 15,
   "metadata": {},
   "outputs": [],
   "source": [
    "compile_for_student_windows(student_id)"
   ]
  },
  {
   "cell_type": "markdown",
   "metadata": {},
   "source": [
    "### III.4. Add password to PDF"
   ]
  },
  {
   "cell_type": "code",
   "execution_count": 16,
   "metadata": {},
   "outputs": [],
   "source": [
    "def protect_pdf(student_id, password, dummy_password = 'chicken'):\n",
    "    \n",
    "    # Protect PDF with password\n",
    "    sub_dir = './students_pdfs/'\n",
    "    stud_dir = sub_dir + '{}/'.format(student_id)\n",
    "    path_to_old_pdf = stud_dir + 'latex_file_for_demo_{}.pdf'.format(student_id)\n",
    "    path_to_new_pdf = stud_dir + 'latex_file_for_demo_{}_pw.pdf'.format(student_id)\n",
    "    query = \"pdftk {} output {} owner_pw {} user_pw {}\".format(path_to_old_pdf, path_to_new_pdf, \\\n",
    "                                                               password, dummy_password)\n",
    "    # One of these should work!\n",
    "    os.system(query)\n",
    "    subprocess.run(query, shell = True)\n",
    "    subprocess.call(query, shell = True)\n",
    "    \n",
    "    # Remove unprotected PDF\n",
    "    if os.path.exists(path_to_old_pdf):\n",
    "        os.remove(path_to_old_pdf)"
   ]
  },
  {
   "cell_type": "code",
   "execution_count": 17,
   "metadata": {},
   "outputs": [],
   "source": [
    "password = 'hello1234'\n",
    "protect_pdf(student_id, password)"
   ]
  },
  {
   "cell_type": "markdown",
   "metadata": {},
   "source": [
    "## IV. Sending via email, with Python\n",
    "\n",
    "### IV.1 Retreive mail credentials and setup mailer\n",
    "\n",
    "Text"
   ]
  },
  {
   "cell_type": "code",
   "execution_count": 18,
   "metadata": {},
   "outputs": [],
   "source": [
    "def setup_mailer():\n",
    "    \n",
    "    gmail_user = 'matthieu.de.mari@gmail.com'\n",
    "    gmail_password = 'P@ssword!'\n",
    "    \n",
    "    try:\n",
    "        server = smtplib.SMTP_SSL('smtp.gmail.com', 465)\n",
    "        server.ehlo()\n",
    "        server.login(gmail_user, gmail_password)\n",
    "    except:\n",
    "        print(\"Something is wrong with your email credentials. Check setup_mailer() function.\")\n",
    "    return server"
   ]
  },
  {
   "cell_type": "code",
   "execution_count": 19,
   "metadata": {},
   "outputs": [
    {
     "name": "stdout",
     "output_type": "stream",
     "text": [
      "Something is wrong with your email credentials. Check setup_mailer() function.\n",
      "{'keyfile': None, 'certfile': None, 'context': <ssl.SSLContext object at 0x000001982BE80C18>, '_host': 'smtp.gmail.com', 'timeout': <object object at 0x00000198102FC720>, 'esmtp_features': {'size': '35882577', '8bitmime': '', 'auth': ' LOGIN PLAIN XOAUTH2 PLAIN-CLIENTTOKEN OAUTHBEARER XOAUTH', 'enhancedstatuscodes': '', 'pipelining': '', 'chunking': '', 'smtputf8': ''}, 'command_encoding': 'ascii', 'source_address': None, 'sock': <ssl.SSLSocket fd=1296, family=AddressFamily.AF_INET, type=SocketKind.SOCK_STREAM, proto=0, laddr=('192.168.1.129', 55610), raddr=('74.125.200.108', 465)>, 'file': <_io.BufferedReader name=1296>, 'local_hostname': '[192.168.1.129]', 'ehlo_resp': b'smtp.gmail.com at your service, [27.104.213.86]\\nSIZE 35882577\\n8BITMIME\\nAUTH LOGIN PLAIN XOAUTH2 PLAIN-CLIENTTOKEN OAUTHBEARER XOAUTH\\nENHANCEDSTATUSCODES\\nPIPELINING\\nCHUNKING\\nSMTPUTF8', 'does_esmtp': 1, 'user': 'matthieu.de.mari@gmail.com', 'password': 'P@ssword!'}\n"
     ]
    }
   ],
   "source": [
    "mailer = setup_mailer()\n",
    "print(mailer.__dict__)"
   ]
  },
  {
   "cell_type": "markdown",
   "metadata": {},
   "source": [
    "### IV.2. Send PDF and password to student via mail\n",
    "\n",
    "Text"
   ]
  },
  {
   "cell_type": "code",
   "execution_count": 20,
   "metadata": {},
   "outputs": [],
   "source": [
    "def send_pdf_to_student(mailer, student_id, password, target_email):\n",
    "    \n",
    "    # 1. Prepare email\n",
    "    # - Body as string\n",
    "    body_str = 'Hello there!\\n'\n",
    "    body_str += 'This is an automated email, for student {}, with a password protected PDF!\\n'.format(student_id)\n",
    "    body_str += 'To unlock your PDF, use the following password: {}.\\n'.format(password)\n",
    "    body_str += 'Good luck on your exam!\\n'\n",
    "    body_str += 'Best regards,\\n'\n",
    "    body_str += 'Matthieu\\n'\n",
    "    # - Create instance of MIMEMultipart \n",
    "    msg = MIMEMultipart() \n",
    "    # - Sender   \n",
    "    msg['From'] = mailer.user\n",
    "    # - Recipient \n",
    "    msg['To'] = target_email \n",
    "    # - Subject  \n",
    "    msg['Subject'] = 'Secret exam with password protected PDF attached and password in the body of this email!'\n",
    "    # - Body\n",
    "    msg.attach(MIMEText(body_str, 'plain'))\n",
    "    \n",
    "    # 2. Retrieve PDF file and attach to mail\n",
    "    # - Retrieve PDF\n",
    "    sub_dir = './students_pdfs/'\n",
    "    stud_dir = sub_dir + '{}/'.format(student_id)\n",
    "    path_to_pdf = stud_dir + 'latex_file_for_demo_{}_pw.pdf'.format(student_id)\n",
    "    f = open(path_to_pdf, 'rb')\n",
    "    # - Initialize instance of MIMEBase and named as p \n",
    "    p = MIMEBase('application', 'octet-stream') \n",
    "    p.set_payload((f).read()) \n",
    "    # - Encode into base64\n",
    "    encoders.encode_base64(p)\n",
    "    # - Attach to mail.\n",
    "    p.add_header('Content-Disposition', \"attachment; filename= %s\" % path_to_pdf)\n",
    "    msg.attach(p)\n",
    "    \n",
    "    # 3. Send mail\n",
    "    try:\n",
    "        mailer.login(mailer.user, mailer.password)\n",
    "        mailer.sendmail(mailer.user, target_email, msg.as_string())\n",
    "        mailer.close()\n",
    "        status = True\n",
    "    except:\n",
    "        print(\"Something is wrong with your email credentials. Check send_pdf_to_student() function.\")\n",
    "        status = False\n",
    "    return status"
   ]
  },
  {
   "cell_type": "code",
   "execution_count": 21,
   "metadata": {},
   "outputs": [
    {
     "name": "stdout",
     "output_type": "stream",
     "text": [
      "Something is wrong with your email credentials. Check send_pdf_to_student() function.\n"
     ]
    }
   ],
   "source": [
    "target_email = 'matthieu.de.mari@gmail.com'\n",
    "status = send_pdf_to_student(mailer, student_id, password, target_email)"
   ]
  },
  {
   "cell_type": "markdown",
   "metadata": {},
   "source": [
    "## V. Run all!"
   ]
  },
  {
   "cell_type": "code",
   "execution_count": 22,
   "metadata": {},
   "outputs": [],
   "source": [
    "def run_all(make_it_official = False):\n",
    "    \n",
    "    # Display\n",
    "    print(\"Starting randomized exam generation...\")\n",
    "    \n",
    "    # 1. Generate ID-password combinations\n",
    "    id_password_dict = generate_ID_password()\n",
    "    save_ID_password(id_password_dict)\n",
    "    \n",
    "    # Display\n",
    "    print(\"---\")\n",
    "    print(\"1. Generated ID-password combinations. Displaying below.\")\n",
    "    print(id_password_dict)\n",
    "    print(\"---\")\n",
    "    \n",
    "    # For each student\n",
    "    for student_id, password in id_password_dict.items():\n",
    "        # Display\n",
    "        print(\"-\")\n",
    "        print(\"Exam generation for student {}.\".format(student_id))\n",
    "        \n",
    "        # 2.a Generate randomized task 1 values (repeat for all tasks)\n",
    "        scrubber_for_task1a_given_student = solutionscrubber_t1a(studentid_as_seed = student_id)\n",
    "        \n",
    "        # 2.b Insert value for task 1 into LaTeX (repeat for all tasks)\n",
    "        input_randomized_values_into_latex(task_scrubber_object = scrubber_for_task1a_given_student)\n",
    "        \n",
    "        # 2.c. Compile LaTeX\n",
    "        compile_for_student_windows(student_id, remove = True)\n",
    "        \n",
    "        # 2.d. Password protection\n",
    "        protect_pdf(student_id, password)\n",
    "        \n",
    "        # Display\n",
    "        print(\"Exam generation complete.\")\n",
    "        \n",
    "    # Display\n",
    "    print(\"---\")\n",
    "    print(\"2. Generated all encrypted PDFs.\")\n",
    "    \n",
    "    # Setup mailer\n",
    "    mailer = setup_mailer()\n",
    "        \n",
    "    # For each student\n",
    "    for student_id, password in id_password_dict.items():\n",
    "        print(\"-\")\n",
    "        print(\"Sending email to student {}.\".format(student_id))\n",
    "        \n",
    "        # 3. Send email to student\n",
    "        if not make_it_official:\n",
    "            target_email = 'matthieu.de.mari@gmail.com'\n",
    "        else:\n",
    "            target_email = 'matthieu.de.mari@gmail.com'\n",
    "            #target_email = '{}@mymail.sutd.edu.sg'.format(student_id)\n",
    "        status = send_pdf_to_student(mailer, student_id, password, target_email)\n",
    "        if not status:\n",
    "            assert False, \"There is an error in your mailer credentials.\" \\\n",
    "                            + \"Please investigate your send_pdf_to_student() fuction.\"\n",
    "        \n",
    "        # Display\n",
    "        print(\"Email to student {} has been sent.\".format(student_id))\n",
    "\n",
    "    # Display\n",
    "    print(\"3. Emails have been sent to students.\")\n",
    "    print(\"---\")\n",
    "    print(\"Task completed.\")"
   ]
  },
  {
   "cell_type": "code",
   "execution_count": 23,
   "metadata": {},
   "outputs": [],
   "source": [
    "#run_all()"
   ]
  },
  {
   "cell_type": "code",
   "execution_count": null,
   "metadata": {},
   "outputs": [],
   "source": []
  }
 ],
 "metadata": {
  "kernelspec": {
   "display_name": "Python 3",
   "language": "python",
   "name": "python3"
  },
  "language_info": {
   "codemirror_mode": {
    "name": "ipython",
    "version": 3
   },
   "file_extension": ".py",
   "mimetype": "text/x-python",
   "name": "python",
   "nbconvert_exporter": "python",
   "pygments_lexer": "ipython3",
   "version": "3.6.8"
  }
 },
 "nbformat": 4,
 "nbformat_minor": 4
}
